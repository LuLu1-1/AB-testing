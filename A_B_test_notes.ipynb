{
  "nbformat": 4,
  "nbformat_minor": 0,
  "metadata": {
    "colab": {
      "provenance": [],
      "authorship_tag": "ABX9TyMlcS+QUC27GKyj47CrXBPK",
      "include_colab_link": true
    },
    "kernelspec": {
      "name": "python3",
      "display_name": "Python 3"
    },
    "language_info": {
      "name": "python"
    }
  },
  "cells": [
    {
      "cell_type": "markdown",
      "metadata": {
        "id": "view-in-github",
        "colab_type": "text"
      },
      "source": [
        "<a href=\"https://colab.research.google.com/github/LuLu1-1/AB-testing/blob/main/A_B_test_notes.ipynb\" target=\"_parent\"><img src=\"https://colab.research.google.com/assets/colab-badge.svg\" alt=\"Open In Colab\"/></a>"
      ]
    },
    {
      "cell_type": "markdown",
      "source": [
        "# steps\n",
        "1. make clear strategy and target\n",
        "1.   define relevent metrics : invariant metrics/ evaluation metrics\n",
        " (subprime metrics and guardrail metrics)\n",
        "1. calculate minumum sample size and last period, accoringding significance level, statistical power, minimum detectable effect \n",
        "2.   split samples into comparable groups ; randomizing control/ experiment groups\n",
        "2. A/A tests evaluate the setup of your experiment\n",
        "3.   choose statistical tests and validate their assumptions\n",
        "4.   decide on stopping criteria\n",
        "5.   run and monitor the experiment\n",
        "6.   analyze results and suggest actions\n",
        "\n"
      ],
      "metadata": {
        "id": "5uLOVL7WmuNE"
      }
    },
    {
      "cell_type": "markdown",
      "source": [
        "# Constructing a hypothesis\n",
        "1. null hypothesis\n",
        "2. alternative hypothesis\n",
        "\n",
        "examination\n",
        "1. z-score\n",
        "2. p value\n"
      ],
      "metadata": {
        "id": "hASyL0MJ2gtQ"
      }
    },
    {
      "cell_type": "markdown",
      "source": [
        "# split groups\n",
        "\n",
        "bucketing， split traffic based on location, time, age, sex, source, system"
      ],
      "metadata": {
        "id": "-VJ-sL-dtqAq"
      }
    },
    {
      "cell_type": "markdown",
      "source": [
        "# sample size\n",
        "1.   Baseline conversion rate\n",
        "2.   Minimum Detectable Effect\n",
        "3.   Significance level α\n",
        "4.   Statistical power 1−β\n",
        "\n",
        "\n",
        "# duration and exposure\n",
        "at least cover a behavior peroid, satisfiy minimun sample size\n"
      ],
      "metadata": {
        "id": "DjaRMZsp-j6w"
      }
    },
    {
      "cell_type": "markdown",
      "source": [
        "# distributions\n",
        "\n",
        "\n",
        "1.   Bernoulli - event probability\n",
        "2.   Exponential - average revenue per user, average position clicked\n",
        "3.   Normal/Student t - height, weight, test scores, measurement errors\n",
        "\n"
      ],
      "metadata": {
        "id": "uS85eubI1bJL"
      }
    },
    {
      "cell_type": "markdown",
      "source": [
        "# specital situation\n",
        "1. novelty effect/primacy effect\n",
        "2. Simpson's paradox \n",
        "3. multiple testing problem\n",
        "4. sequential a/b testing\n",
        "5. network effect"
      ],
      "metadata": {
        "id": "7JNjPDkqtuEI"
      }
    },
    {
      "cell_type": "markdown",
      "source": [
        "Bayesian Estimation：\n",
        "observation，update，prior，posterior\n",
        "\n",
        "Multi-armed bandit experiments：\n",
        "minimizing opportunity cost， Thompson Sampling"
      ],
      "metadata": {
        "id": "6XdKsnztMOSc"
      }
    }
  ]
}